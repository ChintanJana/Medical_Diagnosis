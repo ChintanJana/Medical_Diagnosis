{
  "nbformat": 4,
  "nbformat_minor": 0,
  "metadata": {
    "colab": {
      "provenance": []
    },
    "kernelspec": {
      "name": "python3",
      "display_name": "Python 3"
    },
    "language_info": {
      "name": "python"
    }
  },
  "cells": [
    {
      "cell_type": "markdown",
      "source": [
        "Initially, we have to install swi-prolog and pyswip to enable us to use Prolog and Python(w/ PySwip)"
      ],
      "metadata": {
        "id": "XhD6du7J7E5s"
      }
    },
    {
      "cell_type": "code",
      "source": [
        "!sudo apt install swi-prolog\n",
        "!pip install pyswip"
      ],
      "metadata": {
        "colab": {
          "base_uri": "https://localhost:8080/"
        },
        "id": "eQYaPDKOXSN-",
        "outputId": "4d402ce7-e7c4-49f1-c0ae-7017b11db8bd"
      },
      "execution_count": 12,
      "outputs": [
        {
          "output_type": "stream",
          "name": "stdout",
          "text": [
            "Reading package lists... Done\n",
            "Building dependency tree... Done\n",
            "Reading state information... Done\n",
            "swi-prolog is already the newest version (8.4.2+dfsg-2ubuntu1).\n",
            "0 upgraded, 0 newly installed, 0 to remove and 19 not upgraded.\n",
            "Requirement already satisfied: pyswip in /usr/local/lib/python3.10/dist-packages (0.2.10)\n"
          ]
        }
      ]
    },
    {
      "cell_type": "markdown",
      "source": [
        "Before running the Python code we need to make sure that the `diseases.pl` was loaded into the files of colab."
      ],
      "metadata": {
        "id": "or9BTWfm8seP"
      }
    },
    {
      "cell_type": "code",
      "source": [
        "from pyswip import Prolog\n",
        "\n",
        "# Load the Prolog knowledge base\n",
        "prolog = Prolog()\n",
        "prolog.consult(\"diseases.pl\")  # Replace with the path to your knowledge base file\n",
        "\n",
        "# Function to collect symptoms interactively\n",
        "def collect_symptoms():\n",
        "    symptoms = []\n",
        "    print(\"Answer the following questions with 'yes' or 'no':\")\n",
        "    for result in prolog.query(\"symptom(Symptom).\"):\n",
        "        symptom = result[\"Symptom\"]\n",
        "        answer = input(f\"Do you have {symptom}? (yes/no): \").strip().lower()\n",
        "        if answer == 'yes':\n",
        "            symptoms.append(symptom)\n",
        "    return symptoms\n",
        "\n",
        "# Function to calculate the probability of a single disease\n",
        "# Function to calculate the probability of a single disease\n",
        "def calculate_disease_probability(symptoms, disease):\n",
        "    required_symptoms = [str(symptom) for symptom in list(prolog.query(f\"disease({disease}, RequiredSymptoms).\"))[0][\"RequiredSymptoms\"]]\n",
        "    matched_symptoms = sum(1 for symptom in required_symptoms if symptom in symptoms)\n",
        "    total_symptom_count = len(required_symptoms)\n",
        "    probability = (matched_symptoms / total_symptom_count) * 100 if total_symptom_count > 0 else 0\n",
        "    return disease, probability\n",
        "\n",
        "\n",
        "# Function to find disease probabilities for a given set of symptoms\n",
        "def find_disease_probabilities(symptoms):\n",
        "    diseases = list(prolog.query(\"disease(Disease, _)\"))\n",
        "    disease_probabilities = [calculate_disease_probability(symptoms, disease['Disease']) for disease in diseases]\n",
        "    return disease_probabilities\n",
        "\n",
        "# Main program\n",
        "if __name__ == \"__main__\":\n",
        "    print(\"Medical Disease Diagnosis Expert System\")\n",
        "    symptoms = collect_symptoms()\n",
        "    if symptoms:\n",
        "        disease_probabilities = find_disease_probabilities(symptoms)\n",
        "        disease_probabilities.sort(key=lambda x: -x[1])  # Sort by probability in descending order\n",
        "\n",
        "        if disease_probabilities[0][1] == 100:\n",
        "            print(f\"The diagnosed disease is {disease_probabilities[0][0]}.\")\n",
        "        else:\n",
        "            print(f\"No disease matched symptoms. \\nMost probable disease is {disease_probabilities[0][0]} with  {disease_probabilities[0][1]}%.\")\n",
        "\n",
        "    else:\n",
        "        print(\"No symptoms provided. Exiting.\")\n"
      ],
      "metadata": {
        "colab": {
          "base_uri": "https://localhost:8080/",
          "height": 160
        },
        "id": "ogO573OnzKbf",
        "outputId": "2a871f27-8a75-4736-fae8-cfb01ca2288b"
      },
      "execution_count": 11,
      "outputs": [
        {
          "output_type": "error",
          "ename": "SyntaxError",
          "evalue": "ignored",
          "traceback": [
            "\u001b[0;36m  File \u001b[0;32m\"<ipython-input-11-d1c5e73ffd34>\"\u001b[0;36m, line \u001b[0;32m45\u001b[0m\n\u001b[0;31m    print(f\"No disease matched symptoms. \\nMost probable disease is {disease_probabilities[0][0]} with  {disease_probabilities[0][1]}%.\u001b[0m\n\u001b[0m          ^\u001b[0m\n\u001b[0;31mSyntaxError\u001b[0m\u001b[0;31m:\u001b[0m unterminated string literal (detected at line 45)\n"
          ]
        }
      ]
    },
    {
      "cell_type": "markdown",
      "source": [
        "### Purpose:\n",
        "The code aims to create an expert system for medical disease diagnosis by using a Prolog knowledge base and a Python script for user interaction and disease probability calculation.\n",
        "\n",
        "### Code Explanation:\n",
        "\n",
        "1. **Import Libraries:**\n",
        "   - The code uses the `Prolog` library from the `pyswip` package to interact with the Prolog knowledge base.\n",
        "\n",
        "2. **Load Knowledge Base:**\n",
        "   - The Prolog knowledge base file is loaded using the `prolog.consult(\"diseases.pl\")` command.\n",
        "\n",
        "3. **Collect Symptoms:**\n",
        "   - The `collect_symptoms` function allows users to interactively input their symptoms by asking a series of questions about each symptom. The responses are stored in a list called `symptoms`.\n",
        "\n",
        "4. **Calculate Disease Probability:**\n",
        "   - The `calculate_disease_probability` function calculates the probability of a single disease based on the provided symptoms.\n",
        "   - It retrieves the required symptoms for the disease from the knowledge base and compares them to the user's symptoms to calculate the probability.\n",
        "\n",
        "5. **Find Disease Probabilities:**\n",
        "   - The `find_disease_probabilities` function iterates through all diseases in the knowledge base, calculates their probabilities, and stores the results in a list of tuples `(disease_name, probability)`.\n",
        "\n",
        "6. **Main Program:**\n",
        "   - The main program begins by collecting symptoms using the `collect_symptoms` function.\n",
        "   - It then calculates the disease probabilities based on the collected symptoms using the `find_disease_probabilities` function.\n",
        "   - The probabilities are sorted in descending order.\n",
        "   - If a disease is diagnosed with a probability of 100%, it is printed as the result. If not, it prints the most probable disease with its probability.\n",
        "\n",
        "### Usage:\n",
        "1. Run the script.\n",
        "2. Answer the questions with \"yes\" or \"no\" to provide your symptoms.\n",
        "3. The program will diagnose possible diseases based on your symptoms."
      ],
      "metadata": {
        "id": "pjQSpTp272ww"
      }
    }
  ]
}